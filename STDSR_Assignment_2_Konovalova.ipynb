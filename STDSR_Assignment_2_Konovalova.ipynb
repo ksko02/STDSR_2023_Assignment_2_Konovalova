{
  "nbformat": 4,
  "nbformat_minor": 0,
  "metadata": {
    "colab": {
      "provenance": [],
      "toc_visible": true
    },
    "kernelspec": {
      "name": "python3",
      "display_name": "Python 3"
    },
    "language_info": {
      "name": "python"
    }
  },
  "cells": [
    {
      "cell_type": "markdown",
      "source": [
        "# STDSR 2023 Assignment 2\n",
        "\n",
        "## Oksana Konovalova B21-DS-02\n",
        "\n",
        "o.konovalova@innopolis.university"
      ],
      "metadata": {
        "id": "1R-VsXHgWlWK"
      }
    },
    {
      "cell_type": "markdown",
      "source": [
        "# Task 1 in python\n"
      ],
      "metadata": {
        "id": "7hIFOWbV96n3"
      }
    },
    {
      "cell_type": "markdown",
      "source": [
        "Task 1 is also made in a pdf file. "
      ],
      "metadata": {
        "id": "aw2tYptxCPgA"
      }
    },
    {
      "cell_type": "code",
      "source": [
        "import numpy as np\n",
        "import scipy.stats as stats\n",
        "import matplotlib.pyplot as plt\n",
        "\n",
        "# Define the data\n",
        "n = 116\n",
        "x = 17"
      ],
      "metadata": {
        "id": "22zL8xW8-kSF"
      },
      "execution_count": 1,
      "outputs": []
    },
    {
      "cell_type": "markdown",
      "source": [
        "##### *1. What is the conditional distribution of X, the number of samples containing Giardia cysts, given θ?*\n",
        "\n",
        "The conditional distribution of X, given θ, is a binomial distribution with parameters n=116 and θ, denoted as X~Bin(116,θ).\n"
      ],
      "metadata": {
        "id": "t0Stip4E-Xgu"
      }
    },
    {
      "cell_type": "markdown",
      "source": [
        "##### *2. Before the experiment, the NIWA scientists elicited that the expected value of θ is 0.2 with a standard deviation of 0.16. Determine the parameters α and β of a Beta prior distribution for θ with this prior mean and standard deviation. (Round α and β to the nearest integer).*\n",
        "\n"
      ],
      "metadata": {
        "id": "BHmAsFPz-opJ"
      }
    },
    {
      "cell_type": "code",
      "source": [
        "# Prior distribution\n",
        "prior_mean = 0.2\n",
        "prior_sd = 0.16\n",
        "alpha = round(prior_mean**2 * (1 - prior_mean) / prior_sd**2, 0)\n",
        "beta = round(alpha * (1 - prior_mean) / prior_mean, 0)\n",
        "prior = stats.beta(alpha, beta)\n",
        "print(f\"alpha = {alpha} and beta = {beta}\")"
      ],
      "metadata": {
        "colab": {
          "base_uri": "https://localhost:8080/"
        },
        "id": "QQo33LeZ-zpw",
        "outputId": "a070c618-7424-45e7-8175-2aef75eed62f"
      },
      "execution_count": 2,
      "outputs": [
        {
          "output_type": "stream",
          "name": "stdout",
          "text": [
            "alpha = 1.0 and beta = 4.0\n"
          ]
        }
      ]
    },
    {
      "cell_type": "markdown",
      "source": [
        "##### *3. \tFind the posterior distribution of θ and summarize it by its posterior mean and standard deviation.* \n",
        "\n"
      ],
      "metadata": {
        "id": "_kc5nX1P_nxZ"
      }
    },
    {
      "cell_type": "code",
      "source": [
        "# Posterior distribution\n",
        "alpha_post = alpha + x\n",
        "beta_post = beta + n - x\n",
        "posterior = stats.beta(alpha_post, beta_post)\n",
        "\n",
        "# Summary statistics\n",
        "post_mean = posterior.mean()\n",
        "post_sd = posterior.std()\n",
        "\n",
        "print(f' posterior mean = {post_mean}\\n posterior standard deviation = {post_sd}')"
      ],
      "metadata": {
        "colab": {
          "base_uri": "https://localhost:8080/"
        },
        "id": "cjjcAKlo_nVA",
        "outputId": "17b1853f-a54e-41f5-acfc-d609ea82db80"
      },
      "execution_count": 3,
      "outputs": [
        {
          "output_type": "stream",
          "name": "stdout",
          "text": [
            " posterior mean = 0.1487603305785124\n",
            " posterior standard deviation = 0.03221733249847173\n"
          ]
        }
      ]
    },
    {
      "cell_type": "markdown",
      "source": [
        "##### *4.\tPlot the prior, posterior and normalized likelihood.*"
      ],
      "metadata": {
        "id": "qS5N2PszASrk"
      }
    },
    {
      "cell_type": "code",
      "source": [
        "# Plot the prior, likelihood, and posterior distributions\n",
        "theta = np.linspace(0, 1, 1000)\n",
        "prior_pdf = prior.pdf(theta)\n",
        "likelihood = stats.binom.pmf(x, n, theta)\n",
        "normalized_likelihood = likelihood / np.max(likelihood)\n",
        "posterior_pdf = posterior.pdf(theta)\n",
        "\n",
        "plt.plot(theta, prior_pdf, label='Prior', color='blue')\n",
        "plt.plot(theta, normalized_likelihood, label='Likelihood', color='red')\n",
        "plt.plot(theta, posterior_pdf, label='Posterior', color='green')\n",
        "plt.legend()\n",
        "plt.title('Prior, Likelihood, and Posterior Distributions')\n",
        "plt.xlabel(r'$\\theta$')\n",
        "plt.ylabel('Density')\n",
        "plt.show()"
      ],
      "metadata": {
        "colab": {
          "base_uri": "https://localhost:8080/",
          "height": 473
        },
        "id": "uMLj3VRMAOCl",
        "outputId": "ea41182b-4be3-4f37-ebdc-05bc1fee68ff"
      },
      "execution_count": 4,
      "outputs": [
        {
          "output_type": "display_data",
          "data": {
            "text/plain": [
              "<Figure size 640x480 with 1 Axes>"
            ],
            "image/png": "[encoded data removed]"
          },
          "metadata": {}
        }
      ]
    },
    {
      "cell_type": "markdown",
      "source": [
        "##### *5. Find the posterior probability that θ < 0.1*"
      ],
      "metadata": {
        "id": "Bmv5Pmv6A4gW"
      }
    },
    {
      "cell_type": "code",
      "source": [
        "# Posterior probability that θ < 0.1\n",
        "post_prob = posterior.cdf(0.1)\n",
        "print(f'Posterior probability that θ < 0.1: {post_prob}')"
      ],
      "metadata": {
        "colab": {
          "base_uri": "https://localhost:8080/"
        },
        "id": "w4LnGhYMBHy_",
        "outputId": "5e9023bf-f5b4-4b19-a9a3-6c7916776f97"
      },
      "execution_count": 5,
      "outputs": [
        {
          "output_type": "stream",
          "name": "stdout",
          "text": [
            "Posterior probability that θ < 0.1: 0.053094376993042654\n"
          ]
        }
      ]
    },
    {
      "cell_type": "markdown",
      "source": [
        "##### *6. Find a central 95% posterior credible interval for θ.*\n"
      ],
      "metadata": {
        "id": "tM5CW-v4Be4J"
      }
    },
    {
      "cell_type": "code",
      "source": [
        "# 95% credible interval for θ\n",
        "cred_int = posterior.interval(0.95)\n",
        "print(f'95% Credible Interval for θ: ({cred_int[0]}, {cred_int[1]})')"
      ],
      "metadata": {
        "colab": {
          "base_uri": "https://localhost:8080/"
        },
        "id": "nYU1qAgnBrwL",
        "outputId": "60785882-b425-412f-b205-5556989316e7"
      },
      "execution_count": 6,
      "outputs": [
        {
          "output_type": "stream",
          "name": "stdout",
          "text": [
            "95% Credible Interval for θ: (0.09138957252823, 0.21710689824337648)\n"
          ]
        }
      ]
    },
    {
      "cell_type": "markdown",
      "source": [
        "# Task 2"
      ],
      "metadata": {
        "id": "IuLpxGMj-Cio"
      }
    },
    {
      "cell_type": "markdown",
      "source": [
        "## Implementation"
      ],
      "metadata": {
        "id": "FFJ6zErhYJLE"
      }
    },
    {
      "cell_type": "markdown",
      "source": [
        "#### Implementation of the basic method UCB1"
      ],
      "metadata": {
        "id": "4HQXIvznZVwm"
      }
    },
    {
      "cell_type": "code",
      "source": [
        "# Finds the maximum value index\n",
        "def ind_max(x):\n",
        "\n",
        "  m = max(x)\n",
        "  return x.index(m)"
      ],
      "metadata": {
        "id": "ikZEUPr1aj5E"
      },
      "execution_count": 7,
      "outputs": []
    },
    {
      "cell_type": "code",
      "execution_count": 8,
      "metadata": {
        "id": "0a182yUiWYAQ"
      },
      "outputs": [],
      "source": [
        "# Code from lab 13\n",
        "\n",
        "import math\n",
        "\n",
        "# Class for the UCB1 algorithm\n",
        "class UCB1():\n",
        "\n",
        "\n",
        "      # Constructor for the UCB1 class\n",
        "      def __init__(self, counts=[], values=[]):\n",
        "        self.counts = counts\n",
        "        self.values = values\n",
        "        return\n",
        "      \n",
        "\n",
        "      # Initializing counts and values arrays with zeros\n",
        "      def initialize(self, n_arms):\n",
        "        self.counts = [0 for col in range(n_arms)]\n",
        "        self.values = [0.0 for col in range(n_arms)]\n",
        "        return\n",
        "\n",
        "\n",
        "      # Selecting arm based on UCB1 algorithm\n",
        "      def select_arm(self):\n",
        "\n",
        "        # If an arm has never been pulled, return it\n",
        "        n_arms = len(self.counts)\n",
        "        for arm in range(n_arms):\n",
        "          if self.counts[arm] == 0:\n",
        "            return arm\n",
        "\n",
        "        # Calculate UCB values for each arm and return arm with the highest UCB value\n",
        "        ucb_values = [0.0 for arm in range(n_arms)]\n",
        "        total_counts = sum(self.counts)\n",
        "        for arm in range(n_arms):\n",
        "          bonus = math.sqrt((2 * math.log(total_counts)) / float(self.counts[arm]))\n",
        "          ucb_values[arm] = self.values[arm] + bonus\n",
        "        return ind_max(ucb_values)\n",
        "      \n",
        "\n",
        "      # Update counts and values for the selected arm with new reward\n",
        "      def update(self, arm_idx, reward):\n",
        "        self.counts[arm_idx] = self.counts[arm_idx] + 1\n",
        "        n = self.counts[arm_idx]\n",
        "\n",
        "        value = self.values[arm_idx]\n",
        "        new_value = ((n - 1) / float(n)) * value + (1 / float(n)) * reward\n",
        "        self.values[arm_idx] = new_value\n",
        "        return"
      ]
    },
    {
      "cell_type": "code",
      "source": [
        "import random\n",
        "\n",
        "# Generate a random number of arms between 3 and 20\n",
        "# This data is the same for all implementation, so it is easier to compare them\n",
        "n_arms = random.randint(3, 20)\n",
        "num_plays = 100\n",
        "print(n_arms)"
      ],
      "metadata": {
        "id": "WOZDDnLghzU9"
      },
      "execution_count": 9,
      "outputs": []
    },
    {
      "cell_type": "code",
      "source": [
        "ucb1 = UCB1()\n",
        "ucb1.initialize(n_arms)\n",
        "\n",
        "for i in range(num_plays):\n",
        "    n_arm = ucb1.select_arm()\n",
        "    ucb1.update(n_arm, 1)\n",
        "\n",
        "print(\"Estimated expected reward:\", ucb1.values)\n",
        "print(\"Number of times each arm was pulled:\", ucb1.counts)"
      ],
      "metadata": {
        "colab": {
          "base_uri": "https://localhost:8080/"
        },
        "id": "44ABrpRzaP9x",
        "outputId": "06df89f4-9dc9-44f6-bd57-9d29e52a26f1"
      },
      "execution_count": 10,
      "outputs": [
        {
          "output_type": "stream",
          "name": "stdout",
          "text": [
            "Estimated expected reward: [1.0, 1.0, 1.0, 1.0, 1.0, 1.0, 1.0, 1.0, 1.0, 1.0, 1.0, 1.0, 1.0, 1.0, 1.0, 1.0, 1.0]\n",
            "Number of times each arm was pulled: [6, 6, 6, 6, 6, 6, 6, 6, 6, 6, 6, 6, 6, 6, 6, 5, 5]\n"
          ]
        }
      ]
    },
    {
      "cell_type": "markdown",
      "source": [
        "#### Implementation of the Thompson Sampling for Bernoulli reward\n"
      ],
      "metadata": {
        "id": "0wxgJBy9fB20"
      }
    },
    {
      "cell_type": "code",
      "source": [
        "from scipy.stats import beta\n",
        "\n",
        "# Class for the Thompson Sampling algorithm for Bernoulli-distributed rewards\n",
        "class ThompsonSamplingBernoulli():\n",
        "\n",
        "\n",
        "    # Constructor for the ThompsonSamplingBernoulli class\n",
        "    def __init__(self, counts=[], values=[], alpha=[], beta=[]):\n",
        "        self.counts = counts\n",
        "        self.values = values\n",
        "        self.alpha = alpha\n",
        "        self.beta = beta\n",
        "        return\n",
        "\n",
        "\n",
        "    # Initializing counts and values arrays with zeros, alpha and beta arrays with one\n",
        "    def initialize(self, n_arms):\n",
        "        self.counts = [0 for col in range(n_arms)]\n",
        "        self.values = [0.0 for col in range(n_arms)]\n",
        "        self.alpha = [1 for col in range(n_arms)]\n",
        "        self.beta = [1 for col in range(n_arms)]\n",
        "        return\n",
        "\n",
        "\n",
        "    # Selecting arm based on Thompson Sampling algorithm for Bernoulli-distributed rewards\n",
        "    def select_arm(self):\n",
        "        n_arms = len(self.counts)\n",
        "        # Generate a random sample from a Beta distribution for each arm\n",
        "        samples = [beta.rvs(self.alpha[i], self.beta[i]) for i in range(n_arms)]\n",
        "        return ind_max(samples)\n",
        "    \n",
        "\n",
        "    # Update counts, values, alpha, and beta for the selected arm with new reward\n",
        "    def update(self, arm_idx, reward):\n",
        "\n",
        "        self.counts[arm_idx] = self.counts[arm_idx] + 1\n",
        "        n = self.counts[arm_idx]\n",
        "        value = self.values[arm_idx]\n",
        "        new_value = ((n - 1) / float(n)) * value + (1 / float(n)) * reward\n",
        "        self.values[arm_idx] = new_value\n",
        "\n",
        "        self.alpha[arm_idx] += reward\n",
        "        self.beta[arm_idx] += 1 - reward\n",
        "        return\n"
      ],
      "metadata": {
        "id": "rkFRH0IOkZkb"
      },
      "execution_count": 11,
      "outputs": []
    },
    {
      "cell_type": "code",
      "source": [
        "# Function to create a list of random probabilities for each arm\n",
        "def create_prob(n_arms):\n",
        "        p = [random.random() for col in range(n_arms)]\n",
        "        return p\n",
        "\n",
        "\n",
        "# Function to generate a Bernoulli-distributed reward based on a given probability\n",
        "def reward_bernoulli(p):\n",
        "    if random.random() > p:\n",
        "        return 0.0\n",
        "    return 1.0\n"
      ],
      "metadata": {
        "id": "9tQ2sWzDJAez"
      },
      "execution_count": 12,
      "outputs": []
    },
    {
      "cell_type": "code",
      "source": [
        "tsb = ThompsonSamplingBernoulli()\n",
        "tsb.initialize(n_arms)\n",
        "\n",
        "# Create a list of probabilities for each arm\n",
        "probs = create_prob(n_arms)\n",
        "\n",
        "for i in range(num_plays):\n",
        "    n_arm = tsb.select_arm()\n",
        "    tsb.update(n_arm, reward_bernoulli(probs[n_arm]))\n",
        "\n",
        "print(\"Estimated expected reward:\", tsb.values)\n",
        "print(\"Number of times each arm was pulled:\", tsb.counts)"
      ],
      "metadata": {
        "colab": {
          "base_uri": "https://localhost:8080/"
        },
        "id": "ngt5Az_xnr-y",
        "outputId": "797d1640-5c9a-4345-8c70-ddfeacebd8cd"
      },
      "execution_count": 13,
      "outputs": [
        {
          "output_type": "stream",
          "name": "stdout",
          "text": [
            "Estimated expected reward: [0.0, 0.8571428571428568, 0.0, 0.4, 0.0, 0.3333333333333333, 0.5000000000000001, 0.0, 0.8292682926829268, 0.3333333333333333, 0.0, 0.0, 0.5, 0.25, 0.0, 0.5, 0.0]\n",
            "Number of times each arm was pulled: [1, 21, 2, 5, 1, 3, 6, 1, 41, 3, 2, 2, 2, 4, 2, 2, 2]\n"
          ]
        }
      ]
    },
    {
      "cell_type": "markdown",
      "source": [
        "#### Implementation of the Thompson Sampling for Gaussian reward"
      ],
      "metadata": {
        "id": "944DHBcNL3zs"
      }
    },
    {
      "cell_type": "code",
      "source": [
        "import numpy as np\n",
        "\n",
        "\n",
        "# Class for the Thompson Sampling algorithm for Gaussian-distributed rewards\n",
        "class ThompsonSamplingGaussian():\n",
        "\n",
        "\n",
        "    # Constructor for the ThompsonSamplingGaussian class\n",
        "    def __init__(self, counts=[], values=[], mu=[], sigma=[]):\n",
        "        self.counts = counts\n",
        "        self.values = values\n",
        "        self.mu = mu\n",
        "        self.sigma = sigma\n",
        "        return\n",
        "\n",
        "\n",
        "    # Initializing counts and values arrays with zeros, mu and sigma arrays with one\n",
        "    def initialize(self, n_arms):\n",
        "        self.counts = [0 for col in range(n_arms)]\n",
        "        self.values = [0.0 for col in range(n_arms)]\n",
        "        self.mu = [1 for col in range(n_arms)]\n",
        "        self.sigma = [1 for col in range(n_arms)]\n",
        "        return\n",
        "        \n",
        "\n",
        "    # Selecting arm based on Thompson Sampling algorithm for Gaussian-distributed rewards\n",
        "    def select_arm(self):\n",
        "        n_arms = len(self.counts)\n",
        "        # Sample values from normal distribution with mean and variance estimates\n",
        "        samples = [np.random.normal(self.mu[i], self.sigma[i]) for i in range(n_arms)]\n",
        "        return ind_max(samples)\n",
        "    \n",
        "    # Update counts, values, mu, and sigma for the selected arm with new reward\n",
        "    def update(self, arm_idx, reward):\n",
        "\n",
        "        self.counts[arm_idx] = self.counts[arm_idx] + 1\n",
        "        n = self.counts[arm_idx]\n",
        "        value = self.values[arm_idx]\n",
        "        new_value = ((n - 1) / float(n)) * value + (1 / float(n)) * reward\n",
        "        self.values[arm_idx] = new_value\n",
        "\n",
        "        self.mu[arm_idx] = (self.mu[arm_idx] * self.sigma[arm_idx]**2 + reward * self.sigma[arm_idx]**2) / (self.sigma[arm_idx]**2 + 1)\n",
        "        self.sigma[arm_idx] = np.sqrt(1 / (1 / self.sigma[arm_idx]**2 + 1))\n",
        "        return\n",
        "\n",
        "\n",
        "    def update(self, arm, reward):\n",
        "        self.posterior_variance[arm] = 1 / (1/self.prior_variance + reward**2)\n",
        "        self.posterior_mean[arm] = self.posterior_variance[arm] * (self.prior_mean/self.prior_variance + reward)\n"
      ],
      "metadata": {
        "id": "-0tgXuEUL0Nq"
      },
      "execution_count": 14,
      "outputs": []
    },
    {
      "cell_type": "code",
      "source": [
        "# Function to create a list of random values for means and variance\n",
        "def create_m(n_arms):\n",
        "        p = [random.randint(1, 15) for col in range(n_arms)]\n",
        "        return p\n",
        "\n",
        "# Function to generate a reward value for an arm with given mean and variance\n",
        "def reward_gaussian(mu, sigma):\n",
        "    return np.random.normal(mu, sigma)\n"
      ],
      "metadata": {
        "id": "dkucuzFIRdlI"
      },
      "execution_count": 15,
      "outputs": []
    },
    {
      "cell_type": "code",
      "source": [
        "# Generate random means and variances for each arm\n",
        "# This data is the same for TS and UCB, so it is easier to compare them\n",
        "mus = create_m(n_arms)\n",
        "sigmas = create_m(n_arms)\n"
      ],
      "metadata": {
        "id": "71DYCHVekR49"
      },
      "execution_count": 16,
      "outputs": []
    },
    {
      "cell_type": "code",
      "source": [
        "tsg = ThompsonSamplingGaussian()\n",
        "tsg.initialize(n_arms)\n",
        "\n",
        "for i in range(num_plays):\n",
        "    n_arm = tsg.select_arm()\n",
        "    tsg.update(n_arm, reward_gaussian(mus[n_arm], sigmas[n_arm]))\n",
        "\n",
        "print(\"Estimated expected reward:\", tsg.values)\n",
        "print(\"Number of times each arm was pulled:\", tsg.counts)"
      ],
      "metadata": {
        "colab": {
          "base_uri": "https://localhost:8080/"
        },
        "id": "oFufib5sQiws",
        "outputId": "3195e62e-631a-4c66-ffcd-b189473ad382"
      },
      "execution_count": 17,
      "outputs": [
        {
          "output_type": "stream",
          "name": "stdout",
          "text": [
            "Estimated expected reward: [7.007257902597827, 7.016326825952972, 0.16011414555513226, 26.040287297541383, 4.445150402794035, 5.491443026366508, 9.662111795329661, 14.067302523318764, 18.74113334884871, -7.338809658751138, 10.914811562757123, 7.244727746471394, 12.95261277514833, 8.17465762705031, 14.703623380067718, 9.735085877425968, 13.668090075382972]\n",
            "Number of times each arm was pulled: [4, 3, 1, 6, 3, 7, 7, 10, 10, 2, 7, 4, 10, 5, 5, 5, 11]\n"
          ]
        }
      ]
    },
    {
      "cell_type": "markdown",
      "source": [
        "#### Implementation of the UCB for Gaussian reward"
      ],
      "metadata": {
        "id": "o5u3aHhLz6JH"
      }
    },
    {
      "cell_type": "code",
      "source": [
        "# Class for the UCB algorithm for Gaussian-distributed rewards\n",
        "class UCBGaussian():\n",
        "\n",
        "  # Constructor for the UCBGaussian class\n",
        "  def __init__(self, c, counts=[], values=[]):\n",
        "    self.counts = counts\n",
        "    self.values = values\n",
        "    self.c = c\n",
        "    return\n",
        "  \n",
        "  # Initializing counts and values arrays with zeros\n",
        "  def initialize(self, n_arms):\n",
        "    self.counts = [0 for col in range(n_arms)]\n",
        "    self.values = [0.0 for col in range(n_arms)]\n",
        "    return\n",
        "  \n",
        "  # Selecting arm based on UCB algorithm for Gaussian-distributed rewards\n",
        "  def select_arm(self):\n",
        "    n_arms = len(self.counts)\n",
        "    for arm in range(n_arms):\n",
        "      if self.counts[arm] == 0:\n",
        "        return arm\n",
        "\n",
        "    ucb_values = [0.0 for arm in range(n_arms)]\n",
        "    total_counts = sum(self.counts)\n",
        "    for arm in range(n_arms):\n",
        "      bonus = self.c * math.sqrt((2 * math.log(total_counts)) / float(self.counts[arm]))\n",
        "      ucb_values[arm] = self.values[arm] + bonus\n",
        "    return ind_max(ucb_values)\n",
        "  \n",
        "  # Update counts and values for the selected arm with new reward\n",
        "  def update(self, arm_idx, reward):\n",
        "    self.counts[arm_idx] = self.counts[arm_idx] + 1\n",
        "    n = self.counts[arm_idx]\n",
        "\n",
        "    value = self.values[arm_idx]\n",
        "    new_value = ((n - 1) / float(n)) * value + (1 / float(n)) * reward\n",
        "    self.values[arm_idx] = new_value\n",
        "    return\n",
        "  "
      ],
      "metadata": {
        "id": "M3cqzcu7RuUu"
      },
      "execution_count": 18,
      "outputs": []
    },
    {
      "cell_type": "code",
      "source": [
        "# c = 2\n",
        "ucb = UCBGaussian(2)\n",
        "ucb.initialize(n_arms)\n",
        "\n",
        "for i in range(num_plays):\n",
        "    n_arm = ucb.select_arm()\n",
        "    ucb.update(n_arm, reward_gaussian(mus[n_arm], sigmas[n_arm]))\n",
        "\n",
        "\n",
        "print(\"Estimated expected reward:\", ucb.values)\n",
        "print(\"Number of times each arm was pulled:\", ucb.counts)"
      ],
      "metadata": {
        "colab": {
          "base_uri": "https://localhost:8080/"
        },
        "id": "uR91WdGMzcGl",
        "outputId": "5b5dd0bc-9071-46c9-dd6f-dc9604a779cf"
      },
      "execution_count": 19,
      "outputs": [
        {
          "output_type": "stream",
          "name": "stdout",
          "text": [
            "Estimated expected reward: [6.950362400049569, 12.076177182959933, -4.644905767720429, 14.917956789082163, 5.5905106970233405, 7.8840306297318135, 7.28307124045703, 13.897487797062897, -8.730423962511527, 11.292266074948085, 1.6635517262515194, -2.537433158832716, 14.804919743877976, 4.222359836305685, 9.880870994058862, 4.775100936591519, 7.945955189121243]\n",
            "Number of times each arm was pulled: [1, 3, 1, 43, 3, 1, 1, 9, 1, 6, 1, 1, 24, 2, 1, 1, 1]\n"
          ]
        }
      ]
    }
  ]
}